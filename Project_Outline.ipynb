{
 "cells": [
  {
   "cell_type": "markdown",
   "metadata": {
    "id": "dqZ-nhxiganh"
   },
   "source": [
    "# **Movie Recommendation System**"
   ]
  },
  {
   "cell_type": "markdown",
   "metadata": {
    "id": "gScHkw6jjrLo"
   },
   "source": [
    "-------------"
   ]
  },
  {
   "cell_type": "markdown",
   "metadata": {
    "id": "Xns_rCdhh-vZ"
   },
   "source": [
    "## **Objective**"
   ]
  },
  {
   "cell_type": "markdown",
   "metadata": {
    "id": "9sPvnFM1iI9l"
   },
   "source": [
    "The objective of a movie recommender system is to provide personalized suggestions to users based on their preferences, viewing history, and behavior. Here are the key objectives of such systems:\n",
    "\n",
    "    1. Enhance User Experience: By recommending movies that align with users' tastes and interests, the system aims to improve overall user satisfaction and engagement.\n",
    "\n",
    "    2. Increase Engagement: Recommender systems aim to keep users on platforms longer by continuously offering relevant content, thereby increasing user interaction and retention.\n",
    "\n",
    "    3. Personalization: Tailoring recommendations to individual users ensures that they receive content that matches their specific preferences, leading to a more enjoyable and relevant experience.\n",
    "\n",
    "    4. Diversity of Content: Besides personalization, recommender systems also strive to introduce users to a diverse range of movies they might not have discovered on their own, thereby broadening their viewing horizons.\n",
    "\n",
    "    5. Revenue Generation: In commercial applications like streaming services, recommending popular or new content can potentially increase revenue through increased subscriptions, rentals, or purchases.\n",
    "\n",
    "    6. Improve Content Discovery: Recommender systems help users navigate through vast catalogs of movies efficiently, making it easier for them to discover new and interesting content.\n",
    "\n",
    "    7. Optimize Resources: By predicting user preferences, recommender systems can optimize resource allocation, such as server bandwidth or storage, based on anticipated demand for specific movies.\n",
    "\n",
    "Overall, the goal is to create a win-win situation where users find relevant content they enjoy, while platforms benefit from increased user engagement and satisfaction."
   ]
  },
  {
   "cell_type": "markdown",
   "metadata": {
    "id": "-Vbnt9CciKJP"
   },
   "source": [
    "## **Data Source**"
   ]
  },
  {
   "cell_type": "markdown",
   "metadata": {
    "id": "sGcv5WqQiNyl"
   },
   "source": [
    "The dataset was collected from The Movie Database (TMDB) using a valid API key.\n",
    "The CSV data was scrape https://api.themoviedb.org/3/movie/top_rated/ by ensuring proper authorization to access their database .\n",
    "\n",
    "The raw data obtained from API responses was processed to extract relevant information. This may include parsing JSON responses, handling pagination, and cleaning the data to ensure consistency."
   ]
  },
  {
   "cell_type": "markdown",
   "metadata": {
    "id": "r7GrZzX0iTlV"
   },
   "source": [
    "## **Import Library**"
   ]
  },
  {
   "cell_type": "code",
   "execution_count": 11,
   "metadata": {
    "id": "UkK6NH9DiW-X"
   },
   "outputs": [],
   "source": [
    "import pandas as pd\n",
    "from sklearn.feature_extraction.text import TfidfVectorizer\n",
    "from sklearn.linear_model import LinearRegression\n",
    "from sklearn.metrics import mean_squared_error\n",
    "from sklearn.model_selection import train_test_split\n",
    "from datetime import datetime"
   ]
  },
  {
   "cell_type": "markdown",
   "metadata": {
    "id": "9lHPQj1XiOUc"
   },
   "source": [
    "## **Import Data**"
   ]
  },
  {
   "cell_type": "code",
   "execution_count": 12,
   "metadata": {
    "id": "zcU1fdnGho6M"
   },
   "outputs": [],
   "source": [
    "df = pd.read_csv(\"Top_rated_movies1.csv\")"
   ]
  },
  {
   "cell_type": "code",
   "execution_count": 13,
   "metadata": {},
   "outputs": [
    {
     "data": {
      "text/html": [
       "<div>\n",
       "<style scoped>\n",
       "    .dataframe tbody tr th:only-of-type {\n",
       "        vertical-align: middle;\n",
       "    }\n",
       "\n",
       "    .dataframe tbody tr th {\n",
       "        vertical-align: top;\n",
       "    }\n",
       "\n",
       "    .dataframe thead th {\n",
       "        text-align: right;\n",
       "    }\n",
       "</style>\n",
       "<table border=\"1\" class=\"dataframe\">\n",
       "  <thead>\n",
       "    <tr style=\"text-align: right;\">\n",
       "      <th></th>\n",
       "      <th>id</th>\n",
       "      <th>title</th>\n",
       "      <th>overview</th>\n",
       "      <th>popularity</th>\n",
       "      <th>release_date</th>\n",
       "      <th>vote_average</th>\n",
       "      <th>vote_count</th>\n",
       "    </tr>\n",
       "  </thead>\n",
       "  <tbody>\n",
       "    <tr>\n",
       "      <th>0</th>\n",
       "      <td>168705</td>\n",
       "      <td>BloodRayne</td>\n",
       "      <td>In 18th-century Romania, after spending much o...</td>\n",
       "      <td>17.499</td>\n",
       "      <td>2005-10-22</td>\n",
       "      <td>4.105</td>\n",
       "      <td>501</td>\n",
       "    </tr>\n",
       "    <tr>\n",
       "      <th>1</th>\n",
       "      <td>19766</td>\n",
       "      <td>Inspector Gadget 2</td>\n",
       "      <td>After capturing Claw, all the criminals have g...</td>\n",
       "      <td>20.772</td>\n",
       "      <td>2003-03-11</td>\n",
       "      <td>4.100</td>\n",
       "      <td>342</td>\n",
       "    </tr>\n",
       "    <tr>\n",
       "      <th>2</th>\n",
       "      <td>248705</td>\n",
       "      <td>The Visitors: Bastille Day</td>\n",
       "      <td>Stuck in the corridors of time, Godefroy de Mo...</td>\n",
       "      <td>18.828</td>\n",
       "      <td>2016-03-23</td>\n",
       "      <td>4.090</td>\n",
       "      <td>636</td>\n",
       "    </tr>\n",
       "    <tr>\n",
       "      <th>3</th>\n",
       "      <td>17711</td>\n",
       "      <td>The Adventures of Rocky &amp; Bullwinkle</td>\n",
       "      <td>Rocky and Bullwinkle have been living off the ...</td>\n",
       "      <td>16.436</td>\n",
       "      <td>2000-06-30</td>\n",
       "      <td>4.075</td>\n",
       "      <td>335</td>\n",
       "    </tr>\n",
       "    <tr>\n",
       "      <th>4</th>\n",
       "      <td>580</td>\n",
       "      <td>Jaws: The Revenge</td>\n",
       "      <td>After another deadly shark attack, Ellen Brody...</td>\n",
       "      <td>30.996</td>\n",
       "      <td>1987-07-17</td>\n",
       "      <td>4.064</td>\n",
       "      <td>931</td>\n",
       "    </tr>\n",
       "  </tbody>\n",
       "</table>\n",
       "</div>"
      ],
      "text/plain": [
       "       id                                 title  \\\n",
       "0  168705                            BloodRayne   \n",
       "1   19766                    Inspector Gadget 2   \n",
       "2  248705            The Visitors: Bastille Day   \n",
       "3   17711  The Adventures of Rocky & Bullwinkle   \n",
       "4     580                     Jaws: The Revenge   \n",
       "\n",
       "                                            overview  popularity release_date  \\\n",
       "0  In 18th-century Romania, after spending much o...      17.499   2005-10-22   \n",
       "1  After capturing Claw, all the criminals have g...      20.772   2003-03-11   \n",
       "2  Stuck in the corridors of time, Godefroy de Mo...      18.828   2016-03-23   \n",
       "3  Rocky and Bullwinkle have been living off the ...      16.436   2000-06-30   \n",
       "4  After another deadly shark attack, Ellen Brody...      30.996   1987-07-17   \n",
       "\n",
       "   vote_average  vote_count  \n",
       "0         4.105         501  \n",
       "1         4.100         342  \n",
       "2         4.090         636  \n",
       "3         4.075         335  \n",
       "4         4.064         931  "
      ]
     },
     "execution_count": 13,
     "metadata": {},
     "output_type": "execute_result"
    }
   ],
   "source": [
    "df.head()"
   ]
  },
  {
   "cell_type": "markdown",
   "metadata": {
    "id": "7PUnimBoiX-x"
   },
   "source": [
    "## **Describe Data**"
   ]
  },
  {
   "cell_type": "code",
   "execution_count": 14,
   "metadata": {
    "id": "kG15arusiZ8Z"
   },
   "outputs": [
    {
     "name": "stdout",
     "output_type": "stream",
     "text": [
      "<class 'pandas.core.frame.DataFrame'>\n",
      "RangeIndex: 8831 entries, 0 to 8830\n",
      "Data columns (total 7 columns):\n",
      " #   Column        Non-Null Count  Dtype  \n",
      "---  ------        --------------  -----  \n",
      " 0   id            8831 non-null   int64  \n",
      " 1   title         8831 non-null   object \n",
      " 2   overview      8830 non-null   object \n",
      " 3   popularity    8831 non-null   float64\n",
      " 4   release_date  8831 non-null   object \n",
      " 5   vote_average  8831 non-null   float64\n",
      " 6   vote_count    8831 non-null   int64  \n",
      "dtypes: float64(2), int64(2), object(3)\n",
      "memory usage: 483.1+ KB\n"
     ]
    }
   ],
   "source": [
    "# Dataframe info\n",
    "df.info()"
   ]
  },
  {
   "cell_type": "code",
   "execution_count": 15,
   "metadata": {},
   "outputs": [
    {
     "data": {
      "text/html": [
       "<div>\n",
       "<style scoped>\n",
       "    .dataframe tbody tr th:only-of-type {\n",
       "        vertical-align: middle;\n",
       "    }\n",
       "\n",
       "    .dataframe tbody tr th {\n",
       "        vertical-align: top;\n",
       "    }\n",
       "\n",
       "    .dataframe thead th {\n",
       "        text-align: right;\n",
       "    }\n",
       "</style>\n",
       "<table border=\"1\" class=\"dataframe\">\n",
       "  <thead>\n",
       "    <tr style=\"text-align: right;\">\n",
       "      <th></th>\n",
       "      <th>id</th>\n",
       "      <th>popularity</th>\n",
       "      <th>vote_average</th>\n",
       "      <th>vote_count</th>\n",
       "    </tr>\n",
       "  </thead>\n",
       "  <tbody>\n",
       "    <tr>\n",
       "      <th>count</th>\n",
       "      <td>8.831000e+03</td>\n",
       "      <td>8831.000000</td>\n",
       "      <td>8831.000000</td>\n",
       "      <td>8831.000000</td>\n",
       "    </tr>\n",
       "    <tr>\n",
       "      <th>mean</th>\n",
       "      <td>1.775555e+05</td>\n",
       "      <td>33.136177</td>\n",
       "      <td>6.639059</td>\n",
       "      <td>1969.126486</td>\n",
       "    </tr>\n",
       "    <tr>\n",
       "      <th>std</th>\n",
       "      <td>2.352400e+05</td>\n",
       "      <td>49.108903</td>\n",
       "      <td>0.794924</td>\n",
       "      <td>3059.560533</td>\n",
       "    </tr>\n",
       "    <tr>\n",
       "      <th>min</th>\n",
       "      <td>5.000000e+00</td>\n",
       "      <td>0.600000</td>\n",
       "      <td>2.106000</td>\n",
       "      <td>1.000000</td>\n",
       "    </tr>\n",
       "    <tr>\n",
       "      <th>25%</th>\n",
       "      <td>9.927500e+03</td>\n",
       "      <td>16.729000</td>\n",
       "      <td>6.113500</td>\n",
       "      <td>469.000000</td>\n",
       "    </tr>\n",
       "    <tr>\n",
       "      <th>50%</th>\n",
       "      <td>3.387500e+04</td>\n",
       "      <td>23.804000</td>\n",
       "      <td>6.662000</td>\n",
       "      <td>846.000000</td>\n",
       "    </tr>\n",
       "    <tr>\n",
       "      <th>75%</th>\n",
       "      <td>3.345215e+05</td>\n",
       "      <td>35.751500</td>\n",
       "      <td>7.205000</td>\n",
       "      <td>1966.000000</td>\n",
       "    </tr>\n",
       "    <tr>\n",
       "      <th>max</th>\n",
       "      <td>1.151534e+06</td>\n",
       "      <td>1766.305000</td>\n",
       "      <td>8.708000</td>\n",
       "      <td>34794.000000</td>\n",
       "    </tr>\n",
       "  </tbody>\n",
       "</table>\n",
       "</div>"
      ],
      "text/plain": [
       "                 id   popularity  vote_average    vote_count\n",
       "count  8.831000e+03  8831.000000   8831.000000   8831.000000\n",
       "mean   1.775555e+05    33.136177      6.639059   1969.126486\n",
       "std    2.352400e+05    49.108903      0.794924   3059.560533\n",
       "min    5.000000e+00     0.600000      2.106000      1.000000\n",
       "25%    9.927500e+03    16.729000      6.113500    469.000000\n",
       "50%    3.387500e+04    23.804000      6.662000    846.000000\n",
       "75%    3.345215e+05    35.751500      7.205000   1966.000000\n",
       "max    1.151534e+06  1766.305000      8.708000  34794.000000"
      ]
     },
     "execution_count": 15,
     "metadata": {},
     "output_type": "execute_result"
    }
   ],
   "source": [
    "# Describing Dataframe\n",
    "df.describe()"
   ]
  },
  {
   "cell_type": "markdown",
   "metadata": {
    "id": "2jXJpdAuiwYW"
   },
   "source": [
    "## **Define Target Variable (y) and Feature Variables (X)**"
   ]
  },
  {
   "cell_type": "code",
   "execution_count": 16,
   "metadata": {
    "id": "QBCakTuli57t"
   },
   "outputs": [],
   "source": [
    "# Selecting features and target variables\n",
    "X_text = df['overview'].fillna('')  # Textual feature for TF-IDF\n",
    "X_numerical = df[['id', 'popularity', 'release_date']]  # Numerical features\n",
    "y = df[['vote_average', 'vote_count']]  # Target variables"
   ]
  },
  {
   "cell_type": "markdown",
   "metadata": {
    "id": "UqfyPOCYiiww"
   },
   "source": [
    "## **Data Preprocessing**"
   ]
  },
  {
   "cell_type": "code",
   "execution_count": 17,
   "metadata": {},
   "outputs": [
    {
     "name": "stderr",
     "output_type": "stream",
     "text": [
      "C:\\Users\\Steive\\AppData\\Local\\Temp\\ipykernel_11664\\1924801188.py:2: SettingWithCopyWarning: \n",
      "A value is trying to be set on a copy of a slice from a DataFrame.\n",
      "Try using .loc[row_indexer,col_indexer] = value instead\n",
      "\n",
      "See the caveats in the documentation: https://pandas.pydata.org/pandas-docs/stable/user_guide/indexing.html#returning-a-view-versus-a-copy\n",
      "  X_numerical['release_year'] = pd.to_datetime(X_numerical['release_date']).dt.year\n",
      "C:\\Users\\Steive\\AppData\\Local\\Temp\\ipykernel_11664\\1924801188.py:3: SettingWithCopyWarning: \n",
      "A value is trying to be set on a copy of a slice from a DataFrame.\n",
      "Try using .loc[row_indexer,col_indexer] = value instead\n",
      "\n",
      "See the caveats in the documentation: https://pandas.pydata.org/pandas-docs/stable/user_guide/indexing.html#returning-a-view-versus-a-copy\n",
      "  X_numerical['release_month'] = pd.to_datetime(X_numerical['release_date']).dt.month\n",
      "C:\\Users\\Steive\\AppData\\Local\\Temp\\ipykernel_11664\\1924801188.py:4: SettingWithCopyWarning: \n",
      "A value is trying to be set on a copy of a slice from a DataFrame.\n",
      "Try using .loc[row_indexer,col_indexer] = value instead\n",
      "\n",
      "See the caveats in the documentation: https://pandas.pydata.org/pandas-docs/stable/user_guide/indexing.html#returning-a-view-versus-a-copy\n",
      "  X_numerical['release_day'] = pd.to_datetime(X_numerical['release_date']).dt.day\n",
      "C:\\Users\\Steive\\AppData\\Local\\Temp\\ipykernel_11664\\1924801188.py:7: SettingWithCopyWarning: \n",
      "A value is trying to be set on a copy of a slice from a DataFrame\n",
      "\n",
      "See the caveats in the documentation: https://pandas.pydata.org/pandas-docs/stable/user_guide/indexing.html#returning-a-view-versus-a-copy\n",
      "  X_numerical.drop(columns=['release_date'], inplace=True)\n"
     ]
    }
   ],
   "source": [
    "# Convert release_date to numeric features (year, month, day)\n",
    "X_numerical['release_year'] = pd.to_datetime(X_numerical['release_date']).dt.year\n",
    "X_numerical['release_month'] = pd.to_datetime(X_numerical['release_date']).dt.month\n",
    "X_numerical['release_day'] = pd.to_datetime(X_numerical['release_date']).dt.day\n",
    "\n",
    "# Drop original release_date column\n",
    "X_numerical.drop(columns=['release_date'], inplace=True)"
   ]
  },
  {
   "cell_type": "markdown",
   "metadata": {
    "id": "90_0q_Pbi658"
   },
   "source": [
    "## **Train Test Split**"
   ]
  },
  {
   "cell_type": "code",
   "execution_count": 18,
   "metadata": {
    "id": "u60YYaOFi-Dw"
   },
   "outputs": [],
   "source": [
    "# Train-test split\n",
    "X_text_train, X_text_test, X_numerical_train, X_numerical_test, y_train, y_test = train_test_split(X_text, X_numerical, y, test_size=0.2, random_state=42)"
   ]
  },
  {
   "cell_type": "markdown",
   "metadata": {
    "id": "cIhyseNria7W"
   },
   "source": [
    "## **Modeling**"
   ]
  },
  {
   "cell_type": "code",
   "execution_count": 19,
   "metadata": {
    "id": "Toq58wpkjCw7"
   },
   "outputs": [],
   "source": [
    "# Text vectorization for overview using TF-IDF\n",
    "tfidf = TfidfVectorizer(stop_words='english')\n",
    "X_text_train_tfidf = tfidf.fit_transform(X_text_train)\n",
    "X_text_test_tfidf = tfidf.transform(X_text_test)\n",
    "\n",
    "# Convert TF-IDF vectors to DataFrame (sparse matrix to array)\n",
    "X_text_train_df = pd.DataFrame(X_text_train_tfidf.toarray(), columns=tfidf.get_feature_names_out())\n",
    "X_text_test_df = pd.DataFrame(X_text_test_tfidf.toarray(), columns=tfidf.get_feature_names_out())\n",
    "\n",
    "# Concatenate numerical features with TF-IDF vectors\n",
    "X_train = pd.concat([X_numerical_train.reset_index(drop=True), X_text_train_df], axis=1)\n",
    "X_test = pd.concat([X_numerical_test.reset_index(drop=True), X_text_test_df], axis=1)"
   ]
  },
  {
   "cell_type": "markdown",
   "metadata": {
    "id": "vhAwWfG0jFun"
   },
   "source": [
    "## **Model Evaluation**"
   ]
  },
  {
   "cell_type": "code",
   "execution_count": 20,
   "metadata": {},
   "outputs": [
    {
     "name": "stdout",
     "output_type": "stream",
     "text": [
      "RMSE for vote_average: 2767.8207991596355\n"
     ]
    }
   ],
   "source": [
    "# Example Linear Regression model\n",
    "model = LinearRegression()\n",
    "model.fit(X_train, y_train)\n",
    "\n",
    "# Model evaluation (Example: RMSE for vote_average prediction)\n",
    "y_pred = model.predict(X_test)\n",
    "rmse = mean_squared_error(y_test['vote_average'], y_pred[:, 0], squared=False)\n",
    "print(f\"RMSE for vote_average: {rmse}\")"
   ]
  },
  {
   "cell_type": "markdown",
   "metadata": {
    "id": "8AzwG7oLjiQI"
   },
   "source": [
    "## **Prediction**"
   ]
  },
  {
   "cell_type": "code",
   "execution_count": 21,
   "metadata": {
    "id": "JLebGzDJjknA"
   },
   "outputs": [
    {
     "name": "stdout",
     "output_type": "stream",
     "text": [
      "Predicted vote_average: 2957.1132614504922, Predicted vote_count: 285496.6170125321\n"
     ]
    }
   ],
   "source": [
    "# Example prediction for a new movie entry (assuming the format of X_new matches X_train)\n",
    "X_new = X_test.iloc[0:1]  \n",
    "y_new_pred = model.predict(X_new)\n",
    "print(f\"Predicted vote_average: {y_new_pred[0, 0]}, Predicted vote_count: {y_new_pred[0, 1]}\")"
   ]
  },
  {
   "cell_type": "markdown",
   "metadata": {
    "id": "SBo38CJZjlEX"
   },
   "source": [
    "## **Explaination**"
   ]
  },
  {
   "cell_type": "markdown",
   "metadata": {
    "id": "Ybi8FR9Kjv00"
   },
   "source": [
    "This movie recommender system utilizes a comprehensive approach combining textual analysis and numerical features to enhance user satisfaction and engagement on a movie platform. By leveraging TF-IDF vectorization of movie overviews and incorporating key numerical attributes such as popularity and release date, the system aims to personalize recommendations based on user preferences and viewing history. The TF-IDF technique assigns weights to terms in movie descriptions, capturing their importance in relation to the entire dataset, while numerical features provide additional context like release timing and popularity trends. A linear regression model exemplifies how these features are integrated to predict movie ratings and recommend content that aligns with user tastes. Overall, the system strives to optimize user experience by offering relevant, diverse content, thus increasing user engagement and potentially boosting platform revenue through enhanced content discovery and personalized recommendations."
   ]
  }
 ],
 "metadata": {
  "colab": {
   "authorship_tag": "ABX9TyPZl4d0nA5Qmq8X1mDqSb1O",
   "name": "Project Outline.ipynb",
   "provenance": []
  },
  "kernelspec": {
   "display_name": "Python 3 (ipykernel)",
   "language": "python",
   "name": "python3"
  },
  "language_info": {
   "codemirror_mode": {
    "name": "ipython",
    "version": 3
   },
   "file_extension": ".py",
   "mimetype": "text/x-python",
   "name": "python",
   "nbconvert_exporter": "python",
   "pygments_lexer": "ipython3",
   "version": "3.11.5"
  }
 },
 "nbformat": 4,
 "nbformat_minor": 4
}
